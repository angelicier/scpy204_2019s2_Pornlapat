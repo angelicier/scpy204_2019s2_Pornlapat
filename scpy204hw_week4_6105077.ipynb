{
 "cells": [
  {
   "cell_type": "code",
   "execution_count": 2,
   "metadata": {},
   "outputs": [],
   "source": [
    "import numpy as np\n",
    "import pandas as pd\n",
    "import matplotlib.pyplot as plt"
   ]
  },
  {
   "cell_type": "code",
   "execution_count": 39,
   "metadata": {},
   "outputs": [
    {
     "data": {
      "text/html": [
       "<div>\n",
       "<style scoped>\n",
       "    .dataframe tbody tr th:only-of-type {\n",
       "        vertical-align: middle;\n",
       "    }\n",
       "\n",
       "    .dataframe tbody tr th {\n",
       "        vertical-align: top;\n",
       "    }\n",
       "\n",
       "    .dataframe thead th {\n",
       "        text-align: right;\n",
       "    }\n",
       "</style>\n",
       "<table border=\"1\" class=\"dataframe\">\n",
       "  <thead>\n",
       "    <tr style=\"text-align: right;\">\n",
       "      <th></th>\n",
       "      <th>dateRep</th>\n",
       "      <th>day</th>\n",
       "      <th>month</th>\n",
       "      <th>year</th>\n",
       "      <th>cases</th>\n",
       "      <th>deaths</th>\n",
       "      <th>countriesAndTerritories</th>\n",
       "      <th>geoId</th>\n",
       "      <th>countryterritoryCode</th>\n",
       "      <th>popData2018</th>\n",
       "    </tr>\n",
       "  </thead>\n",
       "  <tbody>\n",
       "    <tr>\n",
       "      <td>0</td>\n",
       "      <td>12/04/2020</td>\n",
       "      <td>12</td>\n",
       "      <td>4</td>\n",
       "      <td>2020</td>\n",
       "      <td>34</td>\n",
       "      <td>3</td>\n",
       "      <td>Afghanistan</td>\n",
       "      <td>AF</td>\n",
       "      <td>AFG</td>\n",
       "      <td>37172386.0</td>\n",
       "    </tr>\n",
       "    <tr>\n",
       "      <td>1</td>\n",
       "      <td>11/04/2020</td>\n",
       "      <td>11</td>\n",
       "      <td>4</td>\n",
       "      <td>2020</td>\n",
       "      <td>37</td>\n",
       "      <td>0</td>\n",
       "      <td>Afghanistan</td>\n",
       "      <td>AF</td>\n",
       "      <td>AFG</td>\n",
       "      <td>37172386.0</td>\n",
       "    </tr>\n",
       "    <tr>\n",
       "      <td>2</td>\n",
       "      <td>10/04/2020</td>\n",
       "      <td>10</td>\n",
       "      <td>4</td>\n",
       "      <td>2020</td>\n",
       "      <td>61</td>\n",
       "      <td>1</td>\n",
       "      <td>Afghanistan</td>\n",
       "      <td>AF</td>\n",
       "      <td>AFG</td>\n",
       "      <td>37172386.0</td>\n",
       "    </tr>\n",
       "    <tr>\n",
       "      <td>3</td>\n",
       "      <td>09/04/2020</td>\n",
       "      <td>9</td>\n",
       "      <td>4</td>\n",
       "      <td>2020</td>\n",
       "      <td>56</td>\n",
       "      <td>3</td>\n",
       "      <td>Afghanistan</td>\n",
       "      <td>AF</td>\n",
       "      <td>AFG</td>\n",
       "      <td>37172386.0</td>\n",
       "    </tr>\n",
       "    <tr>\n",
       "      <td>4</td>\n",
       "      <td>08/04/2020</td>\n",
       "      <td>8</td>\n",
       "      <td>4</td>\n",
       "      <td>2020</td>\n",
       "      <td>30</td>\n",
       "      <td>4</td>\n",
       "      <td>Afghanistan</td>\n",
       "      <td>AF</td>\n",
       "      <td>AFG</td>\n",
       "      <td>37172386.0</td>\n",
       "    </tr>\n",
       "    <tr>\n",
       "      <td>...</td>\n",
       "      <td>...</td>\n",
       "      <td>...</td>\n",
       "      <td>...</td>\n",
       "      <td>...</td>\n",
       "      <td>...</td>\n",
       "      <td>...</td>\n",
       "      <td>...</td>\n",
       "      <td>...</td>\n",
       "      <td>...</td>\n",
       "      <td>...</td>\n",
       "    </tr>\n",
       "    <tr>\n",
       "      <td>10327</td>\n",
       "      <td>25/03/2020</td>\n",
       "      <td>25</td>\n",
       "      <td>3</td>\n",
       "      <td>2020</td>\n",
       "      <td>0</td>\n",
       "      <td>0</td>\n",
       "      <td>Zimbabwe</td>\n",
       "      <td>ZW</td>\n",
       "      <td>ZWE</td>\n",
       "      <td>14439018.0</td>\n",
       "    </tr>\n",
       "    <tr>\n",
       "      <td>10328</td>\n",
       "      <td>24/03/2020</td>\n",
       "      <td>24</td>\n",
       "      <td>3</td>\n",
       "      <td>2020</td>\n",
       "      <td>0</td>\n",
       "      <td>1</td>\n",
       "      <td>Zimbabwe</td>\n",
       "      <td>ZW</td>\n",
       "      <td>ZWE</td>\n",
       "      <td>14439018.0</td>\n",
       "    </tr>\n",
       "    <tr>\n",
       "      <td>10329</td>\n",
       "      <td>23/03/2020</td>\n",
       "      <td>23</td>\n",
       "      <td>3</td>\n",
       "      <td>2020</td>\n",
       "      <td>0</td>\n",
       "      <td>0</td>\n",
       "      <td>Zimbabwe</td>\n",
       "      <td>ZW</td>\n",
       "      <td>ZWE</td>\n",
       "      <td>14439018.0</td>\n",
       "    </tr>\n",
       "    <tr>\n",
       "      <td>10330</td>\n",
       "      <td>22/03/2020</td>\n",
       "      <td>22</td>\n",
       "      <td>3</td>\n",
       "      <td>2020</td>\n",
       "      <td>1</td>\n",
       "      <td>0</td>\n",
       "      <td>Zimbabwe</td>\n",
       "      <td>ZW</td>\n",
       "      <td>ZWE</td>\n",
       "      <td>14439018.0</td>\n",
       "    </tr>\n",
       "    <tr>\n",
       "      <td>10331</td>\n",
       "      <td>21/03/2020</td>\n",
       "      <td>21</td>\n",
       "      <td>3</td>\n",
       "      <td>2020</td>\n",
       "      <td>1</td>\n",
       "      <td>0</td>\n",
       "      <td>Zimbabwe</td>\n",
       "      <td>ZW</td>\n",
       "      <td>ZWE</td>\n",
       "      <td>14439018.0</td>\n",
       "    </tr>\n",
       "  </tbody>\n",
       "</table>\n",
       "<p>10332 rows × 10 columns</p>\n",
       "</div>"
      ],
      "text/plain": [
       "          dateRep  day  month  year  cases  deaths countriesAndTerritories  \\\n",
       "0      12/04/2020   12      4  2020     34       3             Afghanistan   \n",
       "1      11/04/2020   11      4  2020     37       0             Afghanistan   \n",
       "2      10/04/2020   10      4  2020     61       1             Afghanistan   \n",
       "3      09/04/2020    9      4  2020     56       3             Afghanistan   \n",
       "4      08/04/2020    8      4  2020     30       4             Afghanistan   \n",
       "...           ...  ...    ...   ...    ...     ...                     ...   \n",
       "10327  25/03/2020   25      3  2020      0       0                Zimbabwe   \n",
       "10328  24/03/2020   24      3  2020      0       1                Zimbabwe   \n",
       "10329  23/03/2020   23      3  2020      0       0                Zimbabwe   \n",
       "10330  22/03/2020   22      3  2020      1       0                Zimbabwe   \n",
       "10331  21/03/2020   21      3  2020      1       0                Zimbabwe   \n",
       "\n",
       "      geoId countryterritoryCode  popData2018  \n",
       "0        AF                  AFG   37172386.0  \n",
       "1        AF                  AFG   37172386.0  \n",
       "2        AF                  AFG   37172386.0  \n",
       "3        AF                  AFG   37172386.0  \n",
       "4        AF                  AFG   37172386.0  \n",
       "...     ...                  ...          ...  \n",
       "10327    ZW                  ZWE   14439018.0  \n",
       "10328    ZW                  ZWE   14439018.0  \n",
       "10329    ZW                  ZWE   14439018.0  \n",
       "10330    ZW                  ZWE   14439018.0  \n",
       "10331    ZW                  ZWE   14439018.0  \n",
       "\n",
       "[10332 rows x 10 columns]"
      ]
     },
     "execution_count": 39,
     "metadata": {},
     "output_type": "execute_result"
    }
   ],
   "source": [
    "covid = pd.read_csv('fcovid.csv')\n",
    "covid"
   ]
  },
  {
   "cell_type": "markdown",
   "metadata": {},
   "source": [
    "TH"
   ]
  },
  {
   "cell_type": "code",
   "execution_count": 117,
   "metadata": {},
   "outputs": [
    {
     "name": "stdout",
     "output_type": "stream",
     "text": [
      "2551 38 0.003674282345394524 1.4896119168953352\n"
     ]
    },
    {
     "data": {
      "text/plain": [
       "array([2.551e+03, 2.518e+03, 2.473e+03, 2.423e+03, 2.369e+03, 2.258e+03,\n",
       "       2.220e+03, 2.169e+03, 1.978e+03, 1.875e+03, 1.771e+03, 1.651e+03,\n",
       "       1.651e+03, 1.388e+03, 1.245e+03, 1.136e+03, 1.136e+03, 1.045e+03,\n",
       "       9.340e+02, 8.270e+02, 7.210e+02, 5.990e+02, 3.660e+02, 2.120e+02,\n",
       "       1.770e+02, 1.770e+02, 1.770e+02, 1.140e+02, 8.200e+01, 8.200e+01,\n",
       "       7.000e+01, 5.900e+01, 5.000e+01, 4.700e+01, 4.300e+01, 4.200e+01,\n",
       "       4.200e+01, 4.000e+01, 4.000e+01, 4.000e+01, 3.700e+01, 3.500e+01,\n",
       "       3.500e+01, 3.500e+01, 3.500e+01, 3.500e+01, 3.500e+01, 3.500e+01,\n",
       "       3.400e+01, 3.400e+01, 3.400e+01, 3.300e+01, 3.300e+01, 3.300e+01,\n",
       "       3.200e+01, 3.200e+01, 3.200e+01, 3.200e+01, 2.500e+01, 2.500e+01,\n",
       "       2.500e+01, 1.900e+01, 1.900e+01, 1.900e+01, 1.900e+01, 1.400e+01,\n",
       "       1.400e+01, 1.400e+01, 1.400e+01, 8.000e+00, 5.000e+00, 5.000e+00,\n",
       "       4.000e+00, 4.000e+00, 4.000e+00, 2.000e+00, 2.000e+00, 2.000e+00,\n",
       "       2.000e+00, 2.000e+00, 1.000e+00, 1.000e+00, 1.000e+00, 1.000e+00,\n",
       "       0.000e+00, 0.000e+00, 0.000e+00, 0.000e+00, 0.000e+00, 0.000e+00,\n",
       "       0.000e+00, 0.000e+00, 0.000e+00, 0.000e+00, 0.000e+00, 0.000e+00,\n",
       "       0.000e+00])"
      ]
     },
     "execution_count": 117,
     "metadata": {},
     "output_type": "execute_result"
    }
   ],
   "source": [
    "#chth = check for th\n",
    "chth = covid['geoId'] == 'TH'\n",
    "th = covid[chth]\n",
    "#cth th cases\n",
    "cth = th['cases']\n",
    "sumcth = np.sum(cth)\n",
    "\n",
    "#dth = th deaths sdth = sum dth\n",
    "dth = th['deaths']\n",
    "sdth = np.sum(dth)\n",
    "\n",
    "#date\n",
    "dtth = th['dateRep']\n",
    "dtth = pd.to_datetime(dtth, format='%d/%m/%Y')\n",
    "\n",
    "#inf = %infected/pop den = %death/infected\n",
    "infth = (sumcth/69428524)*100\n",
    "denth = (sdth/sumcth)*100\n",
    "\n",
    "#ath = th cases accumulated,\n",
    "ath = sumcth\n",
    "tha_des = np.array([])\n",
    "for thcase in th['cases']:\n",
    "    tha_des = np.append(tha_des, ath)\n",
    "    ath = ath - thcase\n",
    "\n",
    "print(sumcth, sdth, infth, denth)\n",
    "tha_des"
   ]
  },
  {
   "cell_type": "markdown",
   "metadata": {},
   "source": [
    "AF"
   ]
  },
  {
   "cell_type": "code",
   "execution_count": 119,
   "metadata": {},
   "outputs": [
    {
     "name": "stdout",
     "output_type": "stream",
     "text": [
      "92 0 0.0002474955468287669 0.0\n"
     ]
    },
    {
     "data": {
      "text/plain": [
       "array([92., 86., 82., 77., 74., 71., 64., 64., 62., 60., 55., 55., 50.,\n",
       "       28., 28., 28., 19., 17., 12.,  4.,  2.])"
      ]
     },
     "execution_count": 119,
     "metadata": {},
     "output_type": "execute_result"
    }
   ],
   "source": [
    "#chth = check for th\n",
    "chaf = covid['geoId'] == 'AW'\n",
    "af = covid[chaf]\n",
    "#cth th cases\n",
    "caf = af['cases']\n",
    "scaf = np.sum(caf)\n",
    "\n",
    "#dth = th deaths sdth = sum dth\n",
    "daf = af['deaths']\n",
    "sdaf = np.sum(daf)\n",
    "\n",
    "#date\n",
    "dtaf = af['dateRep']\n",
    "dtaf = pd.to_datetime(dtaf, format='%d/%m/%Y')\n",
    "\n",
    "#inf = %infected/pop den = %death/infected\n",
    "infaf = (scaf/37172386)*100\n",
    "denaf = (sdaf/scaf)*100\n",
    "\n",
    "#ath = th cases accumulated,\n",
    "aaf = scaf\n",
    "afa_des = np.array([])\n",
    "for afcase in af['cases']:\n",
    "    afa_des = np.append(afa_des, aaf)\n",
    "    aaf = aaf - afcase\n",
    "\n",
    "print(scaf, sdaf, infaf, denaf)\n",
    "afa_des"
   ]
  },
  {
   "cell_type": "markdown",
   "metadata": {},
   "source": [
    "AL"
   ]
  },
  {
   "cell_type": "code",
   "execution_count": 120,
   "metadata": {},
   "outputs": [
    {
     "name": "stdout",
     "output_type": "stream",
     "text": [
      "433 23 0.015106182859471332 5.311778290993072\n"
     ]
    },
    {
     "data": {
      "text/plain": [
       "array([433., 416., 409., 400., 383., 377., 361., 333., 304., 277., 259.,\n",
       "       243., 223., 212., 197., 186., 174., 146., 123., 100.,  89.,  76.,\n",
       "        70.,  70.,  59.,  55.,  51.,  42.,  38.,  33.,  23.,  11.,  10.,\n",
       "         6.,   2.])"
      ]
     },
     "execution_count": 120,
     "metadata": {},
     "output_type": "execute_result"
    }
   ],
   "source": [
    "#chth = check for th\n",
    "chal = covid['geoId'] == 'AL'\n",
    "al = covid[chal]\n",
    "#cth th cases\n",
    "cal = al['cases']\n",
    "scal = np.sum(cal)\n",
    "\n",
    "#dth = th deaths sdth = sum dth\n",
    "dal = al['deaths']\n",
    "sdal = np.sum(dal)\n",
    "\n",
    "#date\n",
    "dtal = al['dateRep']\n",
    "dtal = pd.to_datetime(dtal, format='%d/%m/%Y')\n",
    "\n",
    "#inf = %infected/pop den = %death/infected\n",
    "infal = (scal/2866376)*100\n",
    "denal = (sdal/scal)*100\n",
    "\n",
    "#ath = th cases accumulated,\n",
    "aal = scal\n",
    "ala_des = np.array([])\n",
    "for alcase in al['cases']:\n",
    "    ala_des = np.append(ala_des, aal)\n",
    "    aal = aal - alcase\n",
    "\n",
    "print(scal, sdal, infal, denal)\n",
    "ala_des"
   ]
  },
  {
   "cell_type": "markdown",
   "metadata": {},
   "source": [
    "DZ"
   ]
  },
  {
   "cell_type": "code",
   "execution_count": 121,
   "metadata": {},
   "outputs": [
    {
     "name": "stdout",
     "output_type": "stream",
     "text": [
      "1825 275 0.0010253755828804334 5.311778290993072\n"
     ]
    },
    {
     "data": {
      "text/plain": [
       "array([1.825e+03, 1.761e+03, 1.666e+03, 1.572e+03, 1.468e+03, 1.423e+03,\n",
       "       1.320e+03, 1.300e+03, 9.860e+02, 8.470e+02, 8.470e+02, 5.840e+02,\n",
       "       5.110e+02, 4.540e+02, 4.090e+02, 3.050e+02, 3.050e+02, 2.640e+02,\n",
       "       2.310e+02, 1.890e+02, 1.020e+02, 9.400e+01, 9.400e+01, 8.200e+01,\n",
       "       7.300e+01, 6.000e+01, 6.000e+01, 4.800e+01, 3.700e+01, 2.600e+01,\n",
       "       2.400e+01, 2.000e+01, 2.000e+01, 1.700e+01, 1.200e+01, 5.000e+00,\n",
       "       3.000e+00, 1.000e+00, 1.000e+00, 1.000e+00, 1.000e+00, 1.000e+00,\n",
       "       0.000e+00, 0.000e+00, 0.000e+00, 0.000e+00, 0.000e+00, 0.000e+00,\n",
       "       0.000e+00, 0.000e+00, 0.000e+00, 0.000e+00, 0.000e+00, 0.000e+00,\n",
       "       0.000e+00, 0.000e+00, 0.000e+00, 0.000e+00, 0.000e+00, 0.000e+00,\n",
       "       0.000e+00, 0.000e+00, 0.000e+00, 0.000e+00, 0.000e+00, 0.000e+00,\n",
       "       0.000e+00, 0.000e+00, 0.000e+00, 0.000e+00, 0.000e+00, 0.000e+00,\n",
       "       0.000e+00, 0.000e+00, 0.000e+00, 0.000e+00, 0.000e+00, 0.000e+00,\n",
       "       0.000e+00, 0.000e+00, 0.000e+00, 0.000e+00, 0.000e+00, 0.000e+00,\n",
       "       0.000e+00, 0.000e+00, 0.000e+00, 0.000e+00, 0.000e+00, 0.000e+00,\n",
       "       0.000e+00, 0.000e+00, 0.000e+00, 0.000e+00, 0.000e+00, 0.000e+00,\n",
       "       0.000e+00, 0.000e+00, 0.000e+00])"
      ]
     },
     "execution_count": 121,
     "metadata": {},
     "output_type": "execute_result"
    }
   ],
   "source": [
    "#chth = check for th\n",
    "chdz = covid['geoId'] == 'DZ'\n",
    "dz = covid[chdz]\n",
    "#cth th cases\n",
    "cdz = dz['cases']\n",
    "scdz = np.sum(cdz)\n",
    "\n",
    "#dth = th deaths sdth = sum dth\n",
    "ddz = dz['deaths']\n",
    "sddz = np.sum(ddz)\n",
    "\n",
    "#date\n",
    "dtdz = dz['dateRep']\n",
    "dtdz = pd.to_datetime(dtdz, format='%d/%m/%Y')\n",
    "\n",
    "#ath = th cases accumulated,\n",
    "adz = scdz\n",
    "dza_des = np.array([])\n",
    "for dzcase in dz['cases']:\n",
    "    dza_des = np.append(dza_des, adz)\n",
    "    adz = adz - dzcase\n",
    "\n",
    "#inf = %infected/pop den = %death/infected\n",
    "infdz = (scal/42228429)*100\n",
    "dendz = (sdal/scal)*100\n",
    "print(scdz, sddz, infdz, dendz)\n",
    "dza_des"
   ]
  },
  {
   "cell_type": "markdown",
   "metadata": {},
   "source": [
    "AD"
   ]
  },
  {
   "cell_type": "code",
   "execution_count": 122,
   "metadata": {},
   "outputs": [
    {
     "name": "stdout",
     "output_type": "stream",
     "text": [
      "622 28 0.8077292678492585 4.501607717041801\n"
     ]
    },
    {
     "data": {
      "text/plain": [
       "array([622., 601., 583., 564., 545., 526., 501., 466., 439., 428., 390.,\n",
       "       376., 370., 334., 308., 267., 224., 188., 164., 133., 113.,  88.,\n",
       "        75.,  75.,  53.,  14.,  14.,   5.,   2.,   1.])"
      ]
     },
     "execution_count": 122,
     "metadata": {},
     "output_type": "execute_result"
    }
   ],
   "source": [
    "#chth = check for th\n",
    "chad = covid['geoId'] == 'AD'\n",
    "ad = covid[chad]\n",
    "#cth th cases\n",
    "cad = ad['cases']\n",
    "scad = np.sum(cad)\n",
    "\n",
    "#dth = th deaths sdth = sum dth\n",
    "dad = ad['deaths']\n",
    "sdad = np.sum(dad)\n",
    "\n",
    "#date\n",
    "dtad = ad['dateRep']\n",
    "dtad = pd.to_datetime(dtad, format='%d/%m/%Y')\n",
    "\n",
    "#inf = %infected/pop den = %death/infected\n",
    "infad = (scad/77006)*100\n",
    "denad = (sdad/scad)*100\n",
    "\n",
    "#ath = th cases accumulated,\n",
    "aad = scad\n",
    "ada_des = np.array([])\n",
    "for adcase in ad['cases']:\n",
    "    ada_des = np.append(ada_des, aad)\n",
    "    aad = aad - adcase\n",
    "\n",
    "print(scad, sdad, infad, denad)\n",
    "ada_des"
   ]
  },
  {
   "cell_type": "markdown",
   "metadata": {},
   "source": [
    "AO"
   ]
  },
  {
   "cell_type": "code",
   "execution_count": 123,
   "metadata": {},
   "outputs": [
    {
     "name": "stdout",
     "output_type": "stream",
     "text": [
      "19 2 6.166876589309583e-05 10.526315789473683\n"
     ]
    },
    {
     "data": {
      "text/plain": [
       "array([19., 19., 19., 19., 17., 16., 14., 10.,  8.,  8.,  8.,  7.,  7.,\n",
       "        7.,  4.,  4.,  3.,  2.,  2.,  2.,  2.,  2.])"
      ]
     },
     "execution_count": 123,
     "metadata": {},
     "output_type": "execute_result"
    }
   ],
   "source": [
    "#chth = check for th\n",
    "chao = covid['geoId'] == 'AO'\n",
    "ao = covid[chao]\n",
    "#cth th cases\n",
    "cao = ao['cases']\n",
    "scao = np.sum(cao)\n",
    "\n",
    "#dth = th deaths sdth = sum dth\n",
    "dao = ao['deaths']\n",
    "sdao = np.sum(dao)\n",
    "\n",
    "#date\n",
    "dtao = ao['dateRep']\n",
    "dtao = pd.to_datetime(dtao, format='%d/%m/%Y')\n",
    "\n",
    "#inf = %infected/pop den = %death/infected\n",
    "infao = (scao/30809762)*100\n",
    "denao = (sdao/scao)*100\n",
    "\n",
    "#ath = th cases accumulated,\n",
    "aao = scao\n",
    "aoa_des = np.array([])\n",
    "for aocase in ao['cases']:\n",
    "    aoa_des = np.append(aoa_des, aao)\n",
    "    aao = aao - aocase\n",
    "\n",
    "print(scao, sdao, infao, denao)\n",
    "aoa_des"
   ]
  },
  {
   "cell_type": "markdown",
   "metadata": {},
   "source": [
    "AG"
   ]
  },
  {
   "cell_type": "code",
   "execution_count": 124,
   "metadata": {},
   "outputs": [
    {
     "name": "stdout",
     "output_type": "stream",
     "text": [
      "21 2 0.02181002430259851 9.523809523809524\n"
     ]
    },
    {
     "data": {
      "text/plain": [
       "array([21., 21., 19., 15., 15., 15., 15., 15., 15.,  9.,  7.,  7.,  7.,\n",
       "        7.,  7.,  7.,  7.,  3.,  3.,  1.,  1.,  1.,  1.,  1.])"
      ]
     },
     "execution_count": 124,
     "metadata": {},
     "output_type": "execute_result"
    }
   ],
   "source": [
    "#chth = check for th\n",
    "chag = covid['geoId'] == 'AG'\n",
    "ag = covid[chag]\n",
    "#cth th cases\n",
    "cag = ag['cases']\n",
    "scag = np.sum(cag)\n",
    "\n",
    "#dth = th deaths sdth = sum dth\n",
    "dag = ag['deaths']\n",
    "sdag = np.sum(dag)\n",
    "\n",
    "#date\n",
    "dtag = ag['dateRep']\n",
    "dtag = pd.to_datetime(dtag, format='%d/%m/%Y')\n",
    "\n",
    "#inf = %infected/pop den = %death/infected\n",
    "infag = (scag/96286)*100\n",
    "denag = (sdag/scag)*100\n",
    "\n",
    "#ath = th cases accumulated,\n",
    "aag = scag\n",
    "aga_des = np.array([])\n",
    "for agcase in ag['cases']:\n",
    "    aga_des = np.append(aga_des, aag)\n",
    "    aag = aag - agcase\n",
    "\n",
    "print(scag, sdag, infag, denag)\n",
    "aga_des"
   ]
  },
  {
   "cell_type": "markdown",
   "metadata": {},
   "source": [
    "AR"
   ]
  },
  {
   "cell_type": "code",
   "execution_count": 128,
   "metadata": {},
   "outputs": [
    {
     "name": "stdout",
     "output_type": "stream",
     "text": [
      "2137 89 0.004802840584663696 4.16471689284043\n"
     ]
    },
    {
     "data": {
      "text/plain": [
       "array([2.137e+03, 1.975e+03, 1.894e+03, 1.795e+03, 1.715e+03, 1.628e+03,\n",
       "       1.554e+03, 1.451e+03, 1.265e+03, 1.133e+03, 1.133e+03, 9.660e+02,\n",
       "       9.660e+02, 8.200e+02, 7.450e+02, 6.900e+02, 5.890e+02, 5.020e+02,\n",
       "       3.870e+02, 3.010e+02, 2.660e+02, 2.250e+02, 1.580e+02, 1.280e+02,\n",
       "       9.700e+01, 7.900e+01, 6.500e+01, 5.600e+01, 4.500e+01, 3.400e+01,\n",
       "       3.100e+01, 1.900e+01, 1.200e+01, 9.000e+00, 8.000e+00, 2.000e+00,\n",
       "       1.000e+00])"
      ]
     },
     "execution_count": 128,
     "metadata": {},
     "output_type": "execute_result"
    }
   ],
   "source": [
    "#chth = check for th\n",
    "char = covid['geoId'] == 'AR'\n",
    "ar = covid[char]\n",
    "#cth th cases\n",
    "car = ar['cases']\n",
    "scar = np.sum(car)\n",
    "\n",
    "#dth = th deaths sdth = sum dth\n",
    "dar = ar['deaths']\n",
    "sdar = np.sum(dar)\n",
    "\n",
    "#date\n",
    "dtar = ar['dateRep']\n",
    "dtar = pd.to_datetime(dtar, format='%d/%m/%Y')\n",
    "\n",
    "#inf = %infected/pop den = %death/infected\n",
    "infar = (scar/44494502)*100\n",
    "denar = (sdar/scar)*100\n",
    "\n",
    "#ath = th cases accumulated,\n",
    "aar = scar\n",
    "ara_des = np.array([])\n",
    "for arcase in ar['cases']:\n",
    "    ara_des = np.append(ara_des, aar)\n",
    "    aar = aar - arcase\n",
    "\n",
    "print(scar, sdar, infar, denar)\n",
    "ara_des"
   ]
  },
  {
   "cell_type": "markdown",
   "metadata": {},
   "source": [
    "AM"
   ]
  },
  {
   "cell_type": "code",
   "execution_count": 130,
   "metadata": {},
   "outputs": [
    {
     "name": "stdout",
     "output_type": "stream",
     "text": [
      "967 13 0.03275993842351181 1.344364012409514\n"
     ]
    },
    {
     "data": {
      "text/plain": [
       "array([967., 937., 921., 881., 853., 833., 822., 770., 736., 663., 571.,\n",
       "       532., 482., 424., 424., 372., 329., 290., 265., 194., 190., 160.,\n",
       "       136., 122., 115.,  78.,  52.,  30.,  20.,  13.,   6.,   4.,   1.,\n",
       "         1.,   0.,   0.,   0.,   0.,   0.,   0.,   0.,   0.,   0.,   0.,\n",
       "         0.,   0.,   0.,   0.,   0.,   0.,   0.,   0.,   0.,   0.,   0.,\n",
       "         0.,   0.,   0.,   0.,   0.,   0.,   0.,   0.,   0.,   0.,   0.,\n",
       "         0.,   0.,   0.,   0.,   0.,   0.,   0.,   0.,   0.,   0.,   0.,\n",
       "         0.,   0.,   0.,   0.,   0.,   0.,   0.,   0.,   0.,   0.,   0.,\n",
       "         0.,   0.,   0.,   0.,   0.,   0.,   0.])"
      ]
     },
     "execution_count": 130,
     "metadata": {},
     "output_type": "execute_result"
    }
   ],
   "source": [
    "#chth = check for th\n",
    "cham = covid['geoId'] == 'AM'\n",
    "am = covid[cham]\n",
    "#cth th cases\n",
    "cam = am['cases']\n",
    "scam = np.sum(cam)\n",
    "\n",
    "#dth = th deaths sdth = sum dth\n",
    "dam = am['deaths']\n",
    "sdam = np.sum(dam)\n",
    "\n",
    "#date\n",
    "dtam = am['dateRep']\n",
    "dtam = pd.to_datetime(dtam, format='%d/%m/%Y')\n",
    "\n",
    "#inf = %infected/pop den = %death/infected\n",
    "infm = (scam/2951776)*100\n",
    "denm = (sdam/scam)*100\n",
    "\n",
    "#ath = th cases accumulated,\n",
    "aam = scam\n",
    "ama_des = np.array([])\n",
    "for amcase in am['cases']:\n",
    "    ama_des = np.append(ama_des, aam)\n",
    "    aam = aam - amcase\n",
    "\n",
    "print(scam, sdam, infm, denm)\n",
    "ama_des"
   ]
  },
  {
   "cell_type": "markdown",
   "metadata": {},
   "source": [
    "AU"
   ]
  },
  {
   "cell_type": "code",
   "execution_count": 126,
   "metadata": {},
   "outputs": [
    {
     "name": "stdout",
     "output_type": "stream",
     "text": [
      "6289 57 0.025163680961976832 0.906344410876133\n"
     ]
    },
    {
     "data": {
      "text/plain": [
       "array([6.289e+03, 6.238e+03, 6.152e+03, 6.052e+03, 5.956e+03, 5.844e+03,\n",
       "       5.744e+03, 5.687e+03, 5.548e+03, 5.224e+03, 4.976e+03, 4.707e+03,\n",
       "       4.557e+03, 4.093e+03, 3.809e+03, 3.378e+03, 3.166e+03, 2.799e+03,\n",
       "       2.423e+03, 1.823e+03, 1.709e+03, 1.098e+03, 8.740e+02, 7.090e+02,\n",
       "       5.650e+02, 4.540e+02, 3.750e+02, 2.980e+02, 2.490e+02, 1.970e+02,\n",
       "       1.560e+02, 1.260e+02, 1.120e+02, 1.000e+02, 8.000e+01, 7.400e+01,\n",
       "       6.300e+01, 5.900e+01, 5.200e+01, 4.100e+01, 3.300e+01, 2.900e+01,\n",
       "       2.600e+01, 2.500e+01, 2.300e+01, 2.300e+01, 2.200e+01, 2.200e+01,\n",
       "       2.200e+01, 2.200e+01, 2.100e+01, 1.700e+01, 1.500e+01, 1.500e+01,\n",
       "       1.500e+01, 1.500e+01, 1.500e+01, 1.500e+01, 1.500e+01, 1.400e+01,\n",
       "       1.400e+01, 1.400e+01, 1.400e+01, 1.400e+01, 1.400e+01, 1.400e+01,\n",
       "       1.300e+01, 1.200e+01, 1.100e+01, 1.100e+01, 1.100e+01, 9.000e+00,\n",
       "       7.000e+00, 6.000e+00, 4.000e+00, 4.000e+00, 4.000e+00, 4.000e+00,\n",
       "       1.000e+00, 0.000e+00, 0.000e+00, 0.000e+00, 0.000e+00, 0.000e+00,\n",
       "       0.000e+00, 0.000e+00, 0.000e+00, 0.000e+00, 0.000e+00, 0.000e+00,\n",
       "       0.000e+00, 0.000e+00, 0.000e+00, 0.000e+00, 0.000e+00, 0.000e+00,\n",
       "       0.000e+00, 0.000e+00, 0.000e+00, 0.000e+00, 0.000e+00, 0.000e+00,\n",
       "       0.000e+00, 0.000e+00])"
      ]
     },
     "execution_count": 126,
     "metadata": {},
     "output_type": "execute_result"
    }
   ],
   "source": [
    "#chth = check for th\n",
    "chau = covid['geoId'] == 'AU'\n",
    "au = covid[chau]\n",
    "#cth th cases\n",
    "cau = au['cases']\n",
    "scau = np.sum(cau)\n",
    "\n",
    "#dth = th deaths sdth = sum dth\n",
    "dau = au['deaths']\n",
    "sdau = np.sum(dau)\n",
    "\n",
    "#date\n",
    "dtau = au['dateRep']\n",
    "dtau = pd.to_datetime(dtau, format='%d/%m/%Y')\n",
    "\n",
    "#inf = %infected/pop den = %death/infected\n",
    "infu = (scau/24992369)*100\n",
    "denu = (sdau/scau)*100\n",
    "\n",
    "#ath = th cases accumulated,\n",
    "aau = scau\n",
    "aua_des = np.array([])\n",
    "for aucase in au['cases']:\n",
    "    aua_des = np.append(aua_des, aau)\n",
    "    aau = aau - aucase\n",
    "\n",
    "print(scau, sdau, infu, denu)\n",
    "aua_des"
   ]
  },
  {
   "cell_type": "code",
   "execution_count": 115,
   "metadata": {},
   "outputs": [
    {
     "data": {
      "image/png": "[encoded data removed]",
      "text/plain": [
       "<Figure size 432x288 with 1 Axes>"
      ]
     },
     "metadata": {
      "needs_background": "light"
     },
     "output_type": "display_data"
    }
   ],
   "source": [
    "x_th = dtth\n",
    "y_th = tha_des\n",
    "x_af = dtaf\n",
    "y_af = afa_des\n",
    "x_al = dtal\n",
    "y_al = ala_des\n",
    "x_dz = dtdz\n",
    "y_dz = dza_des\n",
    "x_ad = dtad\n",
    "y_ad = ada_des\n",
    "x_ao = dtao\n",
    "y_ao = aoa_des\n",
    "x_ag = dtag\n",
    "y_ag = aga_des\n",
    "x_ar = dtar\n",
    "y_ar = ara_des\n",
    "x_am = dtam\n",
    "y_am = ama_des\n",
    "x_au = dtau\n",
    "y_au = aua_des\n",
    "\n",
    "figure = plt.figure(0)\n",
    "plt.yscale(\"log\")\n",
    "plt.plot_date(x_th, y_th, '-k', linewidth = 2.0, color='rosybrown', label=\"Thailand\")\n",
    "plt.plot_date(x_af, y_af, '-k', linewidth = 2.0, color='firebrick', label=\"Afghanistan\")\n",
    "plt.plot_date(x_al, y_al, '-k', linewidth = 2.0, color='darksalmon', label=\"Albania\")\n",
    "plt.plot_date(x_dz, y_dz, '-k', linewidth = 2.0, color='moccasin', label=\"Algeria\")\n",
    "plt.plot_date(x_ad, y_ad, '-k', linewidth = 2.0, color='olive', label=\"Andorra\")\n",
    "plt.plot_date(x_ao, y_ao, '-k', linewidth = 2.0, color='lightseagreen', label=\"Angola\")\n",
    "plt.plot_date(x_ag, y_ag, '-k', linewidth = 2.0, color='deepskyblue', label=\"Antigua_and_Barbuda\")\n",
    "plt.plot_date(x_ar, y_ar, '-k', linewidth = 2.0, color='blueviolet', label=\"Argentina\")\n",
    "plt.plot_date(x_am, y_am, '-k', linewidth = 2.0, color='palevioletred', label=\"Armenia\")\n",
    "plt.plot_date(x_au, y_au, '-k', linewidth = 2.0, color='lightpink', label=\"Australia\")\n",
    "\n",
    "plt.title('Relation Between Number of COVID-19 Cases to Dates', fontdict=None, loc='center', )\n",
    "plt.ylabel('Number of Accumulative Patients (People)')\n",
    "plt.xlabel('Collection Dates')\n",
    "plt.xticks(rotation=45)\n",
    "plt.legend(frameon=True, labelspacing=1, title='Country', bbox_to_anchor=(1.05, 1.0), loc='upper left')\n",
    "plt.savefig(figsize=(4,6), dpi=600,fname='World_Accumulative_Cases.png' ,bbox_inches='tight' )\n",
    "plt.show()"
   ]
  },
  {
   "cell_type": "code",
   "execution_count": 133,
   "metadata": {},
   "outputs": [
    {
     "data": {
      "image/png": "[encoded data removed]",
      "text/plain": [
       "<Figure size 432x288 with 1 Axes>"
      ]
     },
     "metadata": {
      "needs_background": "light"
     },
     "output_type": "display_data"
    }
   ],
   "source": [
    "x_thd = infth\n",
    "y_thd = denth\n",
    "x_afd = infaf\n",
    "y_afd = denaf\n",
    "x_ald = infal\n",
    "y_ald = denal\n",
    "x_dzd = infdz\n",
    "y_dzd = dendz\n",
    "x_add = infad\n",
    "y_add = denad\n",
    "x_aod = infao\n",
    "y_aod = denao\n",
    "x_agd = infag\n",
    "y_agd = denag\n",
    "x_ard = infar\n",
    "y_ard = denar\n",
    "x_amd = infm\n",
    "y_amd = denm\n",
    "x_aud = infu\n",
    "y_aud = denu\n",
    "\n",
    "figure = plt.figure(0)\n",
    "plt.scatter(x_thd, y_thd, color='rosybrown',s=np.sqrt(69428.524), alpha=0.3, label=\"Thailand\")\n",
    "plt.scatter(x_afd, y_afd, color='firebrick', s=np.sqrt(37172.386), alpha=0.3, label=\"Afghanistan\")\n",
    "plt.scatter(x_ald, y_ald, color='darksalmon', s=np.sqrt(2866.376), alpha=0.3, label=\"Albania\")\n",
    "plt.scatter(x_dzd, y_dzd, color='moccasin', s=np.sqrt(42228.429), alpha=0.3, label=\"Algeria\")\n",
    "plt.scatter(x_add, y_add, color='olive', s=np.sqrt(77.006), alpha=0.3, label=\"Andorra\")\n",
    "plt.scatter(x_aod, y_aod, color='lightseagreen', s=np.sqrt(30809.762), alpha=0.3, label=\"Angola\")\n",
    "plt.scatter(x_agd, y_agd, color='deepskyblue', s=np.sqrt(96.286), alpha=0.3, label=\"Antigua_and_Barbuda\")\n",
    "plt.scatter(x_ard, y_ard, color='blueviolet', s=np.sqrt(44494.502), alpha=0.3, label=\"Argentina\")\n",
    "plt.scatter(x_amd, y_amd, color='palevioletred', s=np.sqrt(2951.776), alpha=0.3, label=\"Armenia\")\n",
    "plt.scatter(x_aud, y_aud, color='lightpink', s=np.sqrt(24992.369), alpha=0.3, label=\"Australia\")\n",
    "            \n",
    "\n",
    "            \n",
    "            \n",
    "plt.title('Relation between Number of COVID-19 Patients to Dates', fontdict=None, loc='center', )\n",
    "plt.ylabel('%death/infected')\n",
    "plt.xlabel('%infected/population')\n",
    "plt.xticks(rotation=45)\n",
    "plt.legend(scatterpoints=1, frameon=True, labelspacing=1, title='Population', bbox_to_anchor=(1.05, 1.0), loc='upper left')\n",
    "#plt.colorbar();\n",
    "plt.savefig(figsize=(4,6), dpi=600,fname='WorldScatt.png' ,bbox_inches='tight')\n",
    "plt.show()\n",
    "#print(x,y)"
   ]
  }
 ],
 "metadata": {
  "kernelspec": {
   "display_name": "Python 3",
   "language": "python",
   "name": "python3"
  },
  "language_info": {
   "codemirror_mode": {
    "name": "ipython",
    "version": 3
   },
   "file_extension": ".py",
   "mimetype": "text/x-python",
   "name": "python",
   "nbconvert_exporter": "python",
   "pygments_lexer": "ipython3",
   "version": "3.7.4"
  }
 },
 "nbformat": 4,
 "nbformat_minor": 4
}
